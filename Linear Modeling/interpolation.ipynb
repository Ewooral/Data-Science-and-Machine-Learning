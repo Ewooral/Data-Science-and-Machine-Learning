{
 "cells": [
  {
   "cell_type": "markdown",
   "source": [
    "One common use of modeling is interpolation to determine a value \"inside\" or \"in between\" the\n",
    "measured data points. In this exercise, you will make a prediction for the value of the\n",
    "dependent variable distances for a given independent variable times that falls \"in between\" two\n",
    "measurements from a road trip, where the distances are those traveled for the given elapse times.\n",
    "\n",
    "\n",
    "    Inspect the predefined data arrays, times and distances, and the preloaded plot.\n",
    "    Based on your rough inspection, estimate the distance_traveled away from the starting position as of elapse_time = 2.5 hours.\n",
    "    Assign your answer to distance_traveled.\n",
    "\n",
    "Hint\n",
    "\n",
    "    Method 1: Visual Inspection: Look at the plot and make a guess. You will likely be right! :)\n",
    "    Method 2: Quantitative: Compute the average_speed using the first and last points. Then compute the distance_traveled as the product average_speed * time_elapsed."
   ],
   "metadata": {
    "collapsed": false,
    "pycharm": {
     "name": "#%% md\n"
    }
   }
  },
  {
   "cell_type": "markdown",
   "source": [],
   "metadata": {
    "collapsed": false,
    "pycharm": {
     "name": "#%% md\n"
    }
   }
  },
  {
   "cell_type": "code",
   "execution_count": 10,
   "metadata": {
    "collapsed": true,
    "pycharm": {
     "name": "#%%\n"
    }
   },
   "outputs": [
    {
     "name": "stdout",
     "output_type": "stream",
     "text": [
      "The distance traveled is 125.0\n"
     ]
    }
   ],
   "source": [
    "\n",
    "# INTERPOLATION\n",
    "\n",
    "# Compute the total change in distance and change in time\n",
    "times = [0, 1, 2, 3, 4, 5, 6]\n",
    "distances = [  0.00, 44.04512153, 107.16353484, 148.43674052, 196.39705633, 254.4358147,  300.00]\n",
    "total_distance = distances[-1] - distances[0]\n",
    "total_time = times[-1] - times[0]\n",
    "\n",
    "# Estimate the slope of the data from the ratio of the changes\n",
    "average_speed = total_distance / total_time\n",
    "\n",
    "# Predict the distance traveled for a time not measured\n",
    "elapse_time = 2.5\n",
    "distance_traveled = average_speed * elapse_time\n",
    "print(\"The distance traveled is {}\".format(distance_traveled))"
   ]
  },
  {
   "cell_type": "markdown",
   "source": [
    "# Reasons for Modeling: Extrapolation\n",
    "Another common use of modeling is extrapolation to estimate data values \"outside\" or \"beyond\" the range (min and max values of time) of the measured data. In this exercise, we have measured distances for times 0 through 5 hours, but we are interested in estimating how far we'd go in 8 hours. Using the same data set from the previous exercise, we have prepared a linear model distance = model(time). Use that model() to make a prediction about the distance traveled for a time much larger than the other times in the measurements.\n",
    "\n",
    "### context figure Instructions\n",
    "\n",
    "Use distance = model(time) to extrapolate beyond the measured data to time=8 hours.\n",
    "Print the distance predicted and then check whether it is less than or equal to 400.\n",
    "If your car can travel, at most, 400 miles on a full tank, and it takes 8 hours to drive home, will you make it without refilling? You should have answer=True if you'll make it, or answer=False if you will run out of gas.\n",
    "Hint\n",
    "\n",
    "Use the model() function to compute a distance for an input arg of time=8, for 8 hours.\n",
    "Assign answer=True if the resulting distance is less than or equal to 400."
   ],
   "metadata": {
    "collapsed": false,
    "pycharm": {
     "name": "#%% md\n"
    }
   }
  },
  {
   "cell_type": "code",
   "execution_count": 11,
   "outputs": [
    {
     "name": "stdout",
     "output_type": "stream",
     "text": [
      "400\n",
      "True\n"
     ]
    }
   ],
   "source": [
    "# EXTRAPOLATION\n",
    "\n",
    "# Select a time not measured.\n",
    "time = 8\n",
    "def model(time):\n",
    "    return 50*time\n",
    "# Use the model to compute a predicted distance for that time.\n",
    "distance = model(time)\n",
    "\n",
    "# Inspect the value of the predicted distance traveled.\n",
    "print(distance)\n",
    "\n",
    "# Determine if you will make it without refueling.\n",
    "answer = (distance <= 400)\n",
    "print(answer)"
   ],
   "metadata": {
    "collapsed": false,
    "pycharm": {
     "name": "#%%\n"
    }
   }
  },
  {
   "cell_type": "markdown",
   "source": [
    "# Reasons for Modeling: Estimating Relationships\n",
    "\n",
    "Another common application of modeling is to compare two data sets by building models\n",
    "for each, and then comparing the models. In this exercise, you are given data for a road trip two cars took together. The cars stopped for\n",
    "gas every 50 miles, but each car did not need to fill up the same amount, because the cars\n",
    "do not have the same fuel efficiency (MPG). Complete the function efficiency_model(miles, gallons)\n",
    "to estimate efficiency as average miles traveled per gallons of fuel consumed. Use the provided\n",
    "dictionaries car1 and car2, which both have keys car['miles'] and car['gallons'].\n",
    "\n",
    "\n",
    "\n",
    "    Complete the function definition for efficiency_model(miles, gallons).\n",
    "    Use the function to compute the efficiency of the provided cars (dicts car1, car2).\n",
    "    Store your answers as car1['mpg'] and car2['mpg'].\n",
    "    Complete the following logic statement to print which car (if either) has the best efficiency.\n",
    "\n",
    "Hint\n",
    "\n",
    "    Inside efficiency_model(), use numpy to compute the mean of the ratio of miles over gallons.\n",
    "    Use the efficiency_model() function to compute and assign car1['mpg'] and car2['mpg'].\n",
    "    Use the comparison operators > and < to complete the logic statement in the final step.\n"
   ],
   "metadata": {
    "collapsed": false,
    "pycharm": {
     "name": "#%% md\n"
    }
   }
  },
  {
   "cell_type": "code",
   "execution_count": 12,
   "outputs": [
    {
     "name": "stdout",
     "output_type": "stream",
     "text": [
      "car2 is the best\n"
     ]
    }
   ],
   "source": [
    "import numpy as np\n",
    "# Complete the function to model the efficiency.\n",
    "def efficiency_model(miles, gallons):\n",
    "   return np.mean(miles/gallons)\n",
    "\n",
    "car1 = {'miles': np.array([  1. ,  50.9, 100.8, 150.7, 200.6, 250.5, 300.4, 350.3, 400.2,\n",
    "        450.1, 500. ]),\n",
    " 'gallons': np.array([ 0.03333333,  1.69666667,  3.36      ,  5.02333333,  6.68666667,\n",
    "         8.35      , 10.01333333, 11.67666667, 13.34      , 15.00333333,\n",
    "        16.66666667]),\n",
    " 'mpg': 30.0}\n",
    "car2 = {'miles': np.array([  1. ,  50.9, 100.8, 150.7, 200.6, 250.5, 300.4, 350.3, 400.2,\n",
    "        450.1, 500. ]),\n",
    " 'gallons': np.array([ 0.02 ,  1.018,  2.016,  3.014,  4.012,  5.01 ,  6.008,  7.006,\n",
    "         8.004,  9.002, 10.   ]),\n",
    " 'mpg': 50.0}\n",
    "\n",
    "# Use the function to estimate the efficiency for each car.\n",
    "car1['mpg'] = efficiency_model(car1['miles'], car1['gallons'])\n",
    "car2['mpg'] = efficiency_model(car2['miles'], car2['gallons'])\n",
    "\n",
    "# Finish the logic statement to compare the car efficiencies.\n",
    "if car1['mpg'] > car2['mpg'] :\n",
    "    print('car1 is the best')\n",
    "elif car1['mpg'] < car2['mpg'] :\n",
    "    print('car2 is the best')\n",
    "else:\n",
    "    print('the cars have the same efficiency')"
   ],
   "metadata": {
    "collapsed": false,
    "pycharm": {
     "name": "#%%\n"
    }
   }
  }
 ],
 "metadata": {
  "kernelspec": {
   "display_name": "Python 3",
   "language": "python",
   "name": "python3"
  },
  "language_info": {
   "codemirror_mode": {
    "name": "ipython",
    "version": 2
   },
   "file_extension": ".py",
   "mimetype": "text/x-python",
   "name": "python",
   "nbconvert_exporter": "python",
   "pygments_lexer": "ipython2",
   "version": "2.7.6"
  }
 },
 "nbformat": 4,
 "nbformat_minor": 0
}