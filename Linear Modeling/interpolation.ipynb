{
 "cells": [
  {
   "cell_type": "markdown",
   "source": [
    "One common use of modeling is interpolation to determine a value \"inside\" or \"in between\" the\n",
    "measured data points. In this exercise, you will make a prediction for the value of the\n",
    "dependent variable distances for a given independent variable times that falls \"in between\" two\n",
    "measurements from a road trip, where the distances are those traveled for the given elapse times.\n",
    "\n",
    "\n",
    "    Inspect the predefined data arrays, times and distances, and the preloaded plot.\n",
    "    Based on your rough inspection, estimate the distance_traveled away from the starting position as of elapse_time = 2.5 hours.\n",
    "    Assign your answer to distance_traveled.\n",
    "\n",
    "Hint\n",
    "\n",
    "    Method 1: Visual Inspection: Look at the plot and make a guess. You will likely be right! :)\n",
    "    Method 2: Quantitative: Compute the average_speed using the first and last points. Then compute the distance_traveled as the product average_speed * time_elapsed."
   ],
   "metadata": {
    "collapsed": false,
    "pycharm": {
     "name": "#%% md\n"
    }
   }
  },
  {
   "cell_type": "markdown",
   "source": [],
   "metadata": {
    "collapsed": false,
    "pycharm": {
     "name": "#%% md\n"
    }
   }
  },
  {
   "cell_type": "code",
   "execution_count": 74,
   "metadata": {
    "collapsed": true,
    "pycharm": {
     "name": "#%%\n"
    }
   },
   "outputs": [
    {
     "name": "stdout",
     "output_type": "stream",
     "text": [
      "The distance traveled is 125.0\n"
     ]
    }
   ],
   "source": [
    "import matplotlib.pyplot as plt\n",
    "import numpy as np\n",
    "import seaborn as sns\n",
    "sns.set()\n",
    "\n",
    "import warnings\n",
    "warnings.filterwarnings('ignore')\n",
    "\n",
    "# INTERPOLATION\n",
    "\n",
    "# Compute the total change in distance and change in time\n",
    "times = [0, 1, 2, 3, 4, 5, 6]\n",
    "distances = [  0.00, 44.04512153, 107.16353484, 148.43674052, 196.39705633, 254.4358147,  300.00]\n",
    "total_distance = distances[-1] - distances[0]\n",
    "total_time = times[-1] - times[0]\n",
    "\n",
    "# Estimate the slope of the data from the ratio of the changes\n",
    "average_speed = total_distance / total_time\n",
    "\n",
    "# Predict the distance traveled for a time not measured\n",
    "elapse_time = 2.5\n",
    "distance_traveled = average_speed * elapse_time\n",
    "print(\"The distance traveled is {}\".format(distance_traveled))"
   ]
  },
  {
   "cell_type": "markdown",
   "source": [
    "# Reasons for Modeling: Extrapolation\n",
    "Another common use of modeling is extrapolation to estimate data values \"outside\" or \"beyond\" the range (min and max values of time) of the measured data. In this exercise, we have measured distances for times 0 through 5 hours, but we are interested in estimating how far we'd go in 8 hours. Using the same data set from the previous exercise, we have prepared a linear model distance = model(time). Use that model() to make a prediction about the distance traveled for a time much larger than the other times in the measurements.\n",
    "\n",
    "### context figure Instructions\n",
    "\n",
    "Use distance = model(time) to extrapolate beyond the measured data to time=8 hours.\n",
    "Print the distance predicted and then check whether it is less than or equal to 400.\n",
    "If your car can travel, at most, 400 miles on a full tank, and it takes 8 hours to drive home, will you make it without refilling? You should have answer=True if you'll make it, or answer=False if you will run out of gas.\n",
    "Hint\n",
    "\n",
    "Use the model() function to compute a distance for an input arg of time=8, for 8 hours.\n",
    "Assign answer=True if the resulting distance is less than or equal to 400."
   ],
   "metadata": {
    "collapsed": false,
    "pycharm": {
     "name": "#%% md\n"
    }
   }
  },
  {
   "cell_type": "code",
   "execution_count": 75,
   "outputs": [
    {
     "name": "stdout",
     "output_type": "stream",
     "text": [
      "400\n",
      "True\n"
     ]
    }
   ],
   "source": [
    "# EXTRAPOLATION\n",
    "\n",
    "# Select a time not measured.\n",
    "time = 8\n",
    "def model(time):\n",
    "    return 50*time\n",
    "# Use the model to compute a predicted distance for that time.\n",
    "distance = model(time)\n",
    "\n",
    "# Inspect the value of the predicted distance traveled.\n",
    "print(distance)\n",
    "\n",
    "# Determine if you will make it without refueling.\n",
    "answer = (distance <= 400)\n",
    "print(answer)"
   ],
   "metadata": {
    "collapsed": false,
    "pycharm": {
     "name": "#%%\n"
    }
   }
  },
  {
   "cell_type": "markdown",
   "source": [
    "# Reasons for Modeling: Estimating Relationships\n",
    "\n",
    "Another common application of modeling is to compare two data sets by building models\n",
    "for each, and then comparing the models. In this exercise, you are given data for a road trip two cars took together. The cars stopped for\n",
    "gas every 50 miles, but each car did not need to fill up the same amount, because the cars\n",
    "do not have the same fuel efficiency (MPG). Complete the function efficiency_model(miles, gallons)\n",
    "to estimate efficiency as average miles traveled per gallons of fuel consumed. Use the provided\n",
    "dictionaries car1 and car2, which both have keys car['miles'] and car['gallons'].\n",
    "\n",
    "\n",
    "\n",
    "    Complete the function definition for efficiency_model(miles, gallons).\n",
    "    Use the function to compute the efficiency of the provided cars (dicts car1, car2).\n",
    "    Store your answers as car1['mpg'] and car2['mpg'].\n",
    "    Complete the following logic statement to print which car (if either) has the best efficiency.\n",
    "\n",
    "Hint\n",
    "\n",
    "    Inside efficiency_model(), use numpy to compute the mean of the ratio of miles over gallons.\n",
    "    Use the efficiency_model() function to compute and assign car1['mpg'] and car2['mpg'].\n",
    "    Use the comparison operators > and < to complete the logic statement in the final step.\n"
   ],
   "metadata": {
    "collapsed": false,
    "pycharm": {
     "name": "#%% md\n"
    }
   }
  },
  {
   "cell_type": "code",
   "execution_count": 76,
   "outputs": [
    {
     "name": "stdout",
     "output_type": "stream",
     "text": [
      "car2 is the best\n"
     ]
    },
    {
     "data": {
      "text/plain": "<matplotlib.legend.Legend at 0x1b43cb8ba60>"
     },
     "execution_count": 76,
     "metadata": {},
     "output_type": "execute_result"
    },
    {
     "data": {
      "text/plain": "<Figure size 432x288 with 1 Axes>",
      "image/png": "[encoded data removed]"
     },
     "metadata": {},
     "output_type": "display_data"
    }
   ],
   "source": [
    "\n",
    "# Complete the function to model the efficiency.\n",
    "def efficiency_model(miles, gallons):\n",
    "   return np.mean(miles/gallons)\n",
    "\n",
    "car1 = {'miles': np.array([  1. ,  50.9, 100.8, 150.7, 200.6, 250.5, 300.4, 350.3, 400.2,\n",
    "        450.1, 500. ]),\n",
    " 'gallons': np.array([ 0.03333333,  1.69666667,  3.36      ,  5.02333333,  6.68666667,\n",
    "         8.35      , 10.01333333, 11.67666667, 13.34      , 15.00333333,\n",
    "        16.66666667]),\n",
    " 'mpg': 30.0}\n",
    "car2 = {'miles': np.array([  1. ,  50.9, 100.8, 150.7, 200.6, 250.5, 300.4, 350.3, 400.2,\n",
    "        450.1, 500. ]),\n",
    " 'gallons': np.array([ 0.02 ,  1.018,  2.016,  3.014,  4.012,  5.01 ,  6.008,  7.006,\n",
    "         8.004,  9.002, 10.   ]),\n",
    " 'mpg': 50.0}\n",
    "\n",
    "# Use the function to estimate the efficiency for each car.\n",
    "car1['mpg'] = efficiency_model(car1['miles'], car1['gallons'])\n",
    "car2['mpg'] = efficiency_model(car2['miles'], car2['gallons'])\n",
    "\n",
    "# Finish the logic statement to compare the car efficiencies.\n",
    "if car1['mpg'] > car2['mpg'] :\n",
    "    print('car1 is the best')\n",
    "elif car1['mpg'] < car2['mpg'] :\n",
    "    print('car2 is the best')\n",
    "else:\n",
    "    print('the cars have the same efficiency')\n",
    "\n",
    "plt.scatter(car1['miles'], car1['gallons'], label='car1')\n",
    "plt.scatter(car2['miles'], car2['gallons'], label='car2')\n",
    "plt.xlabel('Distance Traveled [miles]')\n",
    "plt.ylabel('Fuel Consummed [gallons]')\n",
    "plt.legend()"
   ],
   "metadata": {
    "collapsed": false,
    "pycharm": {
     "name": "#%%\n"
    }
   }
  },
  {
   "cell_type": "markdown",
   "source": [],
   "metadata": {
    "collapsed": false,
    "pycharm": {
     "name": "#%% md\n"
    }
   }
  },
  {
   "cell_type": "markdown",
   "source": [
    "Plotting the Data\n",
    "Everything in python is an object, even modules. Your goal in this exercise is to review the use of the object-oriented interfaces to the python library matplotlib in order to visualize measured data in a more flexible and extendable work flow. The general plotting work flow looks like this:\n",
    "\n",
    "import matplotlib.pyplot as plt fig, axis = plt.subplots() axis.plot(x, y, color=\"green\", linestyle=\"--\", marker=\"s\") plt.show()\n",
    "\n",
    "context figure Instructions 100 XP\n",
    "\n",
    "Use plt.subplots() to create figure and axis objects.\n",
    "Data have been provided in two predefined numpy arrays, times and distances.\n",
    "Use axis.plot() to plot times on the horizontal and distances on the vertical.\n",
    "Use the input key word args linestyle=\" \", marker=\"o\", and color=\"red\" when calling axis.plot().\n",
    "Hint\n",
    "Create figure and axis objects using plt.subplots().\n",
    "Call the plot() method on the axis object.\n",
    "Pass in the data variables and any key word arguments needed.\n",
    "To display the figure, use plt.show().\n",
    "\n",
    "\n"
   ],
   "metadata": {
    "collapsed": false,
    "pycharm": {
     "name": "#%% md\n"
    }
   }
  },
  {
   "cell_type": "code",
   "execution_count": 77,
   "outputs": [
    {
     "data": {
      "text/plain": "<matplotlib.legend.Legend at 0x1b43d1f4e20>"
     },
     "execution_count": 77,
     "metadata": {},
     "output_type": "execute_result"
    },
    {
     "data": {
      "text/plain": "<Figure size 432x288 with 1 Axes>",
      "image/png": "[encoded data removed]"
     },
     "metadata": {},
     "output_type": "display_data"
    }
   ],
   "source": [
    "\n",
    "times = [0, 1, 2, 3, 4, 5, 6]\n",
    "distances = [0.00, 44.04512153, 107.16353484, 148.43674052, 196.39705633, 254.4358147, 300.00]\n",
    "# Create figure and axis objects using subplots()\n",
    "fig, axis = plt.subplots()\n",
    "\n",
    "# Plot line using the axis.plot() method\n",
    "line = axis.plot(times, distances, linestyle=\" \", marker=\"o\", color=\"red\")\n",
    "\n",
    "\n",
    "\n",
    "plt.scatter(times, distances, label='data')\n",
    "sns.regplot(times, distances, scatter=None,color='red', label='model')\n",
    "plt.xlabel('Time Driven [Hours]')\n",
    "plt.ylabel('Distance Travaled [miles]')\n",
    "plt.legend()\n",
    "\n",
    "\n",
    "\n",
    "# Use the plt.show() method to display the figure\n",
    "# plt.show()\n"
   ],
   "metadata": {
    "collapsed": false,
    "pycharm": {
     "name": "#%%\n"
    }
   }
  },
  {
   "cell_type": "markdown",
   "source": [
    "\n",
    "Plotting the Model on the Data\n",
    "Continuing with the same measured data from the previous exercise, your goal is to use a predefined model() and measured data times and measured_distances to compute modeled distances, and then plot both measured and modeled data on the same axis.\n",
    "\n",
    "context figure Instructions 70 XP Instructions 70 XP\n",
    "\n",
    "Use model_distances = model(times, measured_distances) to compute the modeled values.\n",
    "Use plt.subplots() to create figure and axis objects.\n",
    "Use axis.plot() to plot times vs measured_distances with options linestyle=\" \", marker=\"o\", color=\"black\".\n",
    "Use axis.plot() to also plot times vs model_distances with options linestyle=\"-\", color=\"red\".\n",
    "Hint\n",
    "\n",
    "The general form of the modeling and plotting work-flow will look like the following:\n",
    "\n",
    "x2 = x1 y2 = model(x1, y1) fig, axis = plt.subplots() axis.plot(x1, y1, color=\"black\") axis.plot(x2, y2, color=\"red\") plt.show()\n",
    "\n"
   ],
   "metadata": {
    "collapsed": false,
    "pycharm": {
     "name": "#%% md\n"
    }
   }
  },
  {
   "cell_type": "code",
   "execution_count": 78,
   "outputs": [
    {
     "data": {
      "text/plain": "<Figure size 432x288 with 1 Axes>",
      "image/png": "[encoded data removed]"
     },
     "metadata": {},
     "output_type": "display_data"
    }
   ],
   "source": [
    "\n",
    "\n",
    "# Pass times and measured distances into model\n",
    "measured_distances = np.array([0.24835708, 0.93086785, 2.32384427, 3.76151493, 3.88292331,\n",
    "                               4.88293152, 6.78960641, 7.38371736, 7.76526281, 9.27128002,\n",
    "                               9.76829115])\n",
    "times = [0.,  1.,  2.,  3.,  4.,  5.,  6.,  7.,  8.,  9., 10.]\n",
    "model_distances = model(times)\n",
    "# Create figure and axis objects and call axis.plot() twice to plot data and model distances versus times\n",
    "fig, axis = plt.subplots()\n",
    "axis.plot(times, measured_distances, linestyle=\" \", marker=\"o\", color=\"black\", label=\"Measured\")\n",
    "# axis.plot(times, model_distances, linestyle=\"-\", marker=None, color=\"red\", label=\"Modeled\")\n",
    "\n",
    "# Add grid lines and a legend to your plot, and then show to display\n",
    "axis.grid(True)\n",
    "axis.legend(loc=\"best\")\n",
    "plt.show()"
   ],
   "metadata": {
    "collapsed": false,
    "pycharm": {
     "name": "#%%\n"
    }
   }
  },
  {
   "cell_type": "markdown",
   "source": [
    "\n",
    "\n",
    "\n",
    "Visually Estimating the Slope & Intercept\n",
    "\n",
    "Building linear models is an automated way of doing something we can roughly do \"manually\" with data visualization and a lot of trial-and-error. The visual method is not the most efficient or precise method, but it does illustrate the concepts very well, so let's try it!\n",
    "\n",
    "Given some measured data, your goal is to guess values for slope and intercept, pass them into the model, and adjust your guess until the resulting model fits the data. Use the provided data xd, yd, and the provided function model() to create model predictions. Compare the predictions and data using the provided plot_data_and_model().\n",
    "\n",
    "Instructions\n",
    "0 XP\n",
    "Instructions\n",
    "0 XP\n",
    "\n",
    "    Inspect the chart above, and provide preliminary estimates of trial_slope and trial_intercept. These can be adjusted later in the exercise.\n",
    "    Use the predefined function xm, ym = model(intercept, slope) to generate model predictions.\n",
    "    Use the provided function fig = plot_data_and_model(xd, yd, xm, ym) to plot the measured data (xd, yd) and the modeled predictions (xm, ym) together.\n",
    "    If the model does not fit the data, try different values for trial_slope and trial_intercept and rerun your code.\n",
    "    Repeat until you believe you have the best values, and then assign them to final_slope and final_intercept and submit your answer.\n",
    "\n",
    "Hint\n",
    "\n",
    "    Vary only one thing at a time, trial_slope, or trial_intercept, but not both.\n",
    "    Use plot_data_and_model() instead of writing your own.\n",
    "    The result should look something like this:\n",
    "\n",
    "\n"
   ],
   "metadata": {
    "collapsed": false,
    "pycharm": {
     "name": "#%% md\n"
    }
   }
  },
  {
   "cell_type": "code",
   "execution_count": 79,
   "outputs": [
    {
     "ename": "TypeError",
     "evalue": "model() takes 1 positional argument but 2 were given",
     "output_type": "error",
     "traceback": [
      "\u001B[1;31m---------------------------------------------------------------------------\u001B[0m",
      "\u001B[1;31mTypeError\u001B[0m                                 Traceback (most recent call last)",
      "Input \u001B[1;32mIn [79]\u001B[0m, in \u001B[0;36m<cell line: 11>\u001B[1;34m()\u001B[0m\n\u001B[0;32m      6\u001B[0m yd \u001B[38;5;241m=\u001B[39m np\u001B[38;5;241m.\u001B[39marray([\u001B[38;5;241m4.24835708\u001B[39m, \u001B[38;5;241m4.43086785\u001B[39m, \u001B[38;5;241m5.32384427\u001B[39m, \u001B[38;5;241m6.26151493\u001B[39m, \u001B[38;5;241m5.88292331\u001B[39m,\n\u001B[0;32m      7\u001B[0m        \u001B[38;5;241m6.38293152\u001B[39m, \u001B[38;5;241m7.78960641\u001B[39m, \u001B[38;5;241m7.88371736\u001B[39m, \u001B[38;5;241m7.76526281\u001B[39m, \u001B[38;5;241m8.77128002\u001B[39m,\n\u001B[0;32m      8\u001B[0m        \u001B[38;5;241m8.76829115\u001B[39m])\n\u001B[0;32m     10\u001B[0m \u001B[38;5;66;03m# input thoses guesses into the model function to compute the model values.\u001B[39;00m\n\u001B[1;32m---> 11\u001B[0m xm, ym \u001B[38;5;241m=\u001B[39m \u001B[43mmodel\u001B[49m\u001B[43m(\u001B[49m\u001B[43mtrial_intercept\u001B[49m\u001B[43m,\u001B[49m\u001B[43m \u001B[49m\u001B[43mtrial_slope\u001B[49m\u001B[43m)\u001B[49m\n\u001B[0;32m     13\u001B[0m \u001B[38;5;66;03m# Compare your your model to the data with the plot function\u001B[39;00m\n\u001B[0;32m     14\u001B[0m fig \u001B[38;5;241m=\u001B[39m plot_data_and_model(xd, yd, xm, ym)\n",
      "\u001B[1;31mTypeError\u001B[0m: model() takes 1 positional argument but 2 were given"
     ]
    }
   ],
   "source": [
    "# Look at the plot data and guess initial trial values\n",
    "trial_slope = 1\n",
    "trial_intercept = 2\n",
    "\n",
    "xd = np.array([2.0 , 2.5, 3.0 , 3.5, 4.0 , 4.5, 5. , 5.5, 6. , 6.5, 7. ])\n",
    "yd = np.array([4.24835708, 4.43086785, 5.32384427, 6.26151493, 5.88292331,\n",
    "       6.38293152, 7.78960641, 7.88371736, 7.76526281, 8.77128002,\n",
    "       8.76829115])\n",
    "\n",
    "# input thoses guesses into the model function to compute the model values.\n",
    "xm, ym = model(trial_intercept, trial_slope)\n",
    "\n",
    "# Compare your your model to the data with the plot function\n",
    "fig = plot_data_and_model(xd, yd, xm, ym)\n",
    "plt.show()\n",
    "\n",
    "# Repeat the steps above until your slope and intercept guess makes the model line up with the data.\n",
    "final_slope = 1\n",
    "final_intercept = 2"
   ],
   "metadata": {
    "collapsed": false,
    "pycharm": {
     "name": "#%%\n"
    }
   }
  }
 ],
 "metadata": {
  "kernelspec": {
   "display_name": "Python 3",
   "language": "python",
   "name": "python3"
  },
  "language_info": {
   "codemirror_mode": {
    "name": "ipython",
    "version": 2
   },
   "file_extension": ".py",
   "mimetype": "text/x-python",
   "name": "python",
   "nbconvert_exporter": "python",
   "pygments_lexer": "ipython2",
   "version": "2.7.6"
  }
 },
 "nbformat": 4,
 "nbformat_minor": 0
}