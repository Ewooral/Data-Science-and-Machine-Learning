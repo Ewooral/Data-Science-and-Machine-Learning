{
 "cells": [
  {
   "cell_type": "markdown",
   "source": [
    "# Introspection\n",
    "Using a question mark (?) before or after a variable\n",
    "will display some general info about the object\n",
    " a = [2, 4]\n",
    "\n",
    "In [136]: a?\n",
    "Type:        list\n",
    "String form: [2, 4]\n",
    "Length:      2\n",
    "Docstring:\n",
    "Built-in mutable sequence.\n",
    "\n",
    "If no argument is given, the constructor creates a new empty list.\n",
    "The argument must be an iterable if specified.\n",
    "\n",
    "In [137]: ?a\n",
    "Type:        list\n",
    "String form: [2, 4]\n",
    "Length:      2\n",
    "Docstring:\n",
    "Built-in mutable sequence.\n",
    "\n",
    "If no argument is given, the constructor creates a new empty list.\n",
    "The argument must be an iterable if specified."
   ],
   "metadata": {
    "collapsed": false,
    "pycharm": {
     "name": "#%% md\n"
    }
   }
  }
 ],
 "metadata": {
  "kernelspec": {
   "display_name": "Python 3",
   "language": "python",
   "name": "python3"
  },
  "language_info": {
   "codemirror_mode": {
    "name": "ipython",
    "version": 2
   },
   "file_extension": ".py",
   "mimetype": "text/x-python",
   "name": "python",
   "nbconvert_exporter": "python",
   "pygments_lexer": "ipython2",
   "version": "2.7.6"
  }
 },
 "nbformat": 4,
 "nbformat_minor": 0
}