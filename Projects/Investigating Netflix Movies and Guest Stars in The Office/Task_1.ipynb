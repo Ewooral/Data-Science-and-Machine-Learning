{
 "cells": [
  {
   "cell_type": "code",
   "execution_count": 3,
   "metadata": {
    "pycharm": {
     "name": "#%%\n"
    }
   },
   "outputs": [
    {
     "data": {
      "text/plain": "{2011: 103,\n 2012: 101,\n 2013: 99,\n 2014: 100,\n 2015: 100,\n 2016: 95,\n 2017: 95,\n 2018: 96,\n 2019: 93,\n 2020: 90}"
     },
     "execution_count": 3,
     "metadata": {},
     "output_type": "execute_result"
    }
   ],
   "source": [
    "# Create the years and durations lists\n",
    "years = [2011, 2012, 2013, 2014, 2015, 2016, 2017, 2018, 2019, 2020]\n",
    "durations = [103, 101, 99, 100, 100, 95, 95, 96, 93, 90]\n",
    "\n",
    "# Create a dictionary with the two lists\n",
    "# movie_dict = dict(zip(years, durations))\n",
    "movie_dict1 = {years[i]: durations[i] for i in range(len(durations))}\n",
    "\n",
    "# Print the dictionary\n",
    "# movie_dict\n",
    "movie_dict1\n"
   ]
  }
 ],
 "metadata": {
  "interpreter": {
   "hash": "05c8a8c633d4086db68ec7b0d5ad0ea301cda540407eed8d9149fd8c4a0026e0"
  },
  "kernelspec": {
   "display_name": "Python 3.10.4 ('Ewooral-Tutorials-i81cRfln')",
   "language": "python",
   "name": "python3"
  },
  "language_info": {
   "codemirror_mode": {
    "name": "ipython",
    "version": 3
   },
   "file_extension": ".py",
   "mimetype": "text/x-python",
   "name": "python",
   "nbconvert_exporter": "python",
   "pygments_lexer": "ipython3",
   "version": "3.10.4"
  },
  "orig_nbformat": 4
 },
 "nbformat": 4,
 "nbformat_minor": 2
}